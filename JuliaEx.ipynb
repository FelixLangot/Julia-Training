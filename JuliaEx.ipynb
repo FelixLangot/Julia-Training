{
 "cells": [
  {
   "cell_type": "markdown",
   "metadata": {},
   "source": [
    "# Exercise 1 from 2nd year computing done in Julia"
   ]
  },
  {
   "cell_type": "markdown",
   "metadata": {},
   "source": [
    "## Problem: Series expansion of $arctan(x)$  \n",
    "It is often necessary to calculate a logarithmic or trigonometric function in a computer program. All computer languages\n",
    "have built-in functions for this, which rely on series expansions. Here you will test the convergence of such\n",
    "an expansion by writing a Python function to evaluate the arc-tangent function, using the following Taylor series:\n",
    "$$\n",
    "arctan(x) = \\sum_{n=0}^N \\frac{(-1)^n}{2n+1}x^{2n+1}\n",
    "$$\n",
    "\n",
    "### (a) \n",
    "Write a function that takes $x$ and $N$ as arguments, and returns the resulting value of the summed series. Write\n",
    "a short program to test your function, by asking the user to enter values of $x$ and $N$, and printing $arctan(x)$\n",
    "to the screen. Check that your function produces a good approximation to $arctan(x)$ for known points, e.g. $arctan(1/\\sqrt{3}) = \\pi/6$ and $arctan(1) = \\pi/4$."
   ]
  },
  {
   "cell_type": "code",
   "execution_count": 18,
   "metadata": {},
   "outputs": [
    {
     "data": {
      "text/plain": [
       "arctan (generic function with 1 method)"
      ]
     },
     "metadata": {},
     "output_type": "display_data"
    }
   ],
   "source": [
    "function arctan(X, N)\n",
    "    n = 0\n",
    "    C = 0\n",
    "    while n <= N\n",
    "        A = (-1)^n / (2 * n + 1)\n",
    "        B = X^(2 * n + 1)\n",
    "        C += A * B\n",
    "        n += 1 \n",
    "    end\n",
    "    return C\n",
    "end"
   ]
  },
  {
   "cell_type": "code",
   "execution_count": 30,
   "metadata": {},
   "outputs": [
    {
     "name": "stdout",
     "output_type": "stream",
     "text": [
      "arctan(1) = 0.7856479135848861 \n",
      "π/2 = 0.7853981633974483\n",
      "\n",
      "arctan(1/sqrt(3)) = 0.5235987755982989\n",
      "π/6 = 0.5235987755982988"
     ]
    }
   ],
   "source": [
    "print(\"arctan(1) = \", arctan(1,1000),\" \\n\")\n",
    "print(\"π/2 = \", pi/4, \"\\n\\n\")\n",
    "print(\"arctan(1/sqrt(3)) = \", arctan(1/sqrt(3), 1000), \"\\n\")\n",
    "print(\"π/6 = \", pi/6)"
   ]
  },
  {
   "cell_type": "code",
   "execution_count": null,
   "metadata": {},
   "outputs": [],
   "source": []
  }
 ],
 "metadata": {
  "kernelspec": {
   "display_name": "Julia 1.7.1",
   "language": "julia",
   "name": "julia-1.7"
  },
  "language_info": {
   "file_extension": ".jl",
   "mimetype": "application/julia",
   "name": "julia",
   "version": "1.7.1"
  },
  "orig_nbformat": 4
 },
 "nbformat": 4,
 "nbformat_minor": 2
}
